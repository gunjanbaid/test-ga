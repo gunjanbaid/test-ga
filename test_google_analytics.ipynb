{
  "nbformat": 4,
  "nbformat_minor": 0,
  "metadata": {
    "colab": {
      "name": "test_google_analytics",
      "version": "0.3.2",
      "provenance": [],
      "collapsed_sections": []
    },
    "kernelspec": {
      "name": "python2",
      "display_name": "Python 2"
    }
  },
  "cells": [
    {
      "metadata": {
        "id": "MGWZBn3aApNP",
        "colab_type": "code",
        "colab": {},
        "cellView": "form"
      },
      "cell_type": "code",
      "source": [
        "#@markdown This cell pings google analytics once per runtime.\n",
        "\n",
        "from IPython.display import display, HTML\n",
        "js = \"<script async src='https://www.googletagmanager.com/gtag/js?id=UA-130565920-2'></script>\\\n",
        "<script>\\\n",
        "  window.dataLayer = window.dataLayer || [];\\\n",
        "  function gtag(){dataLayer.push(arguments);}\\\n",
        "  gtag('js', new Date());\\\n",
        "  gtag('config', 'UA-130565920-2');\\\n",
        "</script>\"\n",
        "if '_loaded_google_analytics' not in globals():\n",
        "  display(HTML(js))\n",
        "  print('hi')\n",
        "  _loaded_google_analytics = True"
      ],
      "execution_count": 0,
      "outputs": []
    }
  ]
}